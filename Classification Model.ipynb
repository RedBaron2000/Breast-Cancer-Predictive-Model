{
 "cells": [
  {
   "cell_type": "code",
   "execution_count": 1,
   "id": "ad9fa0c4",
   "metadata": {},
   "outputs": [],
   "source": [
    "import tensorflow as tf\n",
    "from tensorflow import keras\n",
    "import pandas as pd"
   ]
  },
  {
   "cell_type": "code",
   "execution_count": 2,
   "id": "2b1b4126",
   "metadata": {},
   "outputs": [
    {
     "data": {
      "text/plain": [
       "[PhysicalDevice(name='/physical_device:GPU:0', device_type='GPU')]"
      ]
     },
     "execution_count": 2,
     "metadata": {},
     "output_type": "execute_result"
    }
   ],
   "source": [
    "tf.config.list_physical_devices('GPU')"
   ]
  },
  {
   "cell_type": "code",
   "execution_count": 3,
   "id": "20814b2f",
   "metadata": {},
   "outputs": [
    {
     "data": {
      "text/plain": [
       "True"
      ]
     },
     "execution_count": 3,
     "metadata": {},
     "output_type": "execute_result"
    }
   ],
   "source": [
    "tf.test.is_built_with_cuda()"
   ]
  },
  {
   "cell_type": "code",
   "execution_count": 4,
   "id": "25b2e305",
   "metadata": {},
   "outputs": [
    {
     "name": "stdout",
     "output_type": "stream",
     "text": [
      "2.10.1\n"
     ]
    }
   ],
   "source": [
    "print(tf.version.VERSION)"
   ]
  },
  {
   "cell_type": "code",
   "execution_count": 5,
   "id": "3d720ca9",
   "metadata": {},
   "outputs": [
    {
     "name": "stdout",
     "output_type": "stream",
     "text": [
      "WARNING:tensorflow:From C:\\Users\\asaqu\\AppData\\Local\\Temp\\ipykernel_29272\\337460670.py:1: is_gpu_available (from tensorflow.python.framework.test_util) is deprecated and will be removed in a future version.\n",
      "Instructions for updating:\n",
      "Use `tf.config.list_physical_devices('GPU')` instead.\n"
     ]
    },
    {
     "data": {
      "text/plain": [
       "True"
      ]
     },
     "execution_count": 5,
     "metadata": {},
     "output_type": "execute_result"
    }
   ],
   "source": [
    "tf.test.is_gpu_available()"
   ]
  },
  {
   "cell_type": "markdown",
   "id": "461ea79f-eddb-4e3a-b51f-7b325b272c31",
   "metadata": {},
   "source": [
    "## Initialize Model"
   ]
  },
  {
   "cell_type": "code",
   "execution_count": 100,
   "id": "be5f599b",
   "metadata": {},
   "outputs": [],
   "source": [
    "from keras import layers\n",
    "from keras import models\n",
    "\n",
    "model = models.Sequential()\n",
    "#feature learning portion\n",
    "model.add(layers.Conv2D(64, (3,3), activation='relu', input_shape=(50, 50, 1)))\n",
    "model.add(layers.BatchNormalization())\n",
    "model.add(layers.MaxPooling2D((2,2)))\n",
    "model.add(layers.Conv2D(128, (3,3), activation='relu'))\n",
    "model.add(layers.BatchNormalization())\n",
    "model.add(layers.MaxPooling2D((2,2)))\n",
    "model.add(layers.Conv2D(256, (3,3), activation='relu'))\n",
    "model.add(layers.BatchNormalization())\n",
    "model.add(layers.MaxPooling2D((2,2)))\n",
    "model.add(layers.Conv2D(512, (3,3), activation='relu'))\n",
    "model.add(layers.BatchNormalization())\n",
    "model.add(layers.MaxPooling2D((2,2)))\n",
    "#beginning of classification model\n",
    "model.add(layers.Flatten())\n",
    "model.add(layers.Dense(512, activation='relu'))\n",
    "model.add(layers.Dropout(0.4))\n",
    "model.add(layers.Dense(128, activation='relu'))\n",
    "model.add(layers.Dropout(0.4))\n",
    "#use sigmoid as binary classification\n",
    "model.add(layers.Dense(1, activation='sigmoid'))"
   ]
  },
  {
   "cell_type": "code",
   "execution_count": 101,
   "id": "8c3137a1-fc96-41f2-8b37-48e1f665b917",
   "metadata": {},
   "outputs": [
    {
     "name": "stdout",
     "output_type": "stream",
     "text": [
      "Model: \"sequential_2\"\n",
      "_________________________________________________________________\n",
      " Layer (type)                Output Shape              Param #   \n",
      "=================================================================\n",
      " conv2d_8 (Conv2D)           (None, 48, 48, 64)        640       \n",
      "                                                                 \n",
      " batch_normalization_8 (Batc  (None, 48, 48, 64)       256       \n",
      " hNormalization)                                                 \n",
      "                                                                 \n",
      " max_pooling2d_8 (MaxPooling  (None, 24, 24, 64)       0         \n",
      " 2D)                                                             \n",
      "                                                                 \n",
      " conv2d_9 (Conv2D)           (None, 22, 22, 128)       73856     \n",
      "                                                                 \n",
      " batch_normalization_9 (Batc  (None, 22, 22, 128)      512       \n",
      " hNormalization)                                                 \n",
      "                                                                 \n",
      " max_pooling2d_9 (MaxPooling  (None, 11, 11, 128)      0         \n",
      " 2D)                                                             \n",
      "                                                                 \n",
      " conv2d_10 (Conv2D)          (None, 9, 9, 256)         295168    \n",
      "                                                                 \n",
      " batch_normalization_10 (Bat  (None, 9, 9, 256)        1024      \n",
      " chNormalization)                                                \n",
      "                                                                 \n",
      " max_pooling2d_10 (MaxPoolin  (None, 4, 4, 256)        0         \n",
      " g2D)                                                            \n",
      "                                                                 \n",
      " conv2d_11 (Conv2D)          (None, 2, 2, 512)         1180160   \n",
      "                                                                 \n",
      " batch_normalization_11 (Bat  (None, 2, 2, 512)        2048      \n",
      " chNormalization)                                                \n",
      "                                                                 \n",
      " max_pooling2d_11 (MaxPoolin  (None, 1, 1, 512)        0         \n",
      " g2D)                                                            \n",
      "                                                                 \n",
      " flatten_2 (Flatten)         (None, 512)               0         \n",
      "                                                                 \n",
      " dense_6 (Dense)             (None, 512)               262656    \n",
      "                                                                 \n",
      " dropout_4 (Dropout)         (None, 512)               0         \n",
      "                                                                 \n",
      " dense_7 (Dense)             (None, 128)               65664     \n",
      "                                                                 \n",
      " dropout_5 (Dropout)         (None, 128)               0         \n",
      "                                                                 \n",
      " dense_8 (Dense)             (None, 1)                 129       \n",
      "                                                                 \n",
      "=================================================================\n",
      "Total params: 1,882,113\n",
      "Trainable params: 1,880,193\n",
      "Non-trainable params: 1,920\n",
      "_________________________________________________________________\n"
     ]
    }
   ],
   "source": [
    "model.summary()"
   ]
  },
  {
   "cell_type": "code",
   "execution_count": 102,
   "id": "b5fbafec-297e-4931-8817-95da9712fd88",
   "metadata": {},
   "outputs": [],
   "source": [
    "from keras import optimizers\n",
    "model.compile(loss='binary_crossentropy',\n",
    "              optimizer='adam',\n",
    "              metrics=['accuracy'])"
   ]
  },
  {
   "cell_type": "code",
   "execution_count": 9,
   "id": "00df1552-76cc-4700-935f-0e8679d1935a",
   "metadata": {},
   "outputs": [],
   "source": [
    "tensorboard_dir = \"logs/fit\""
   ]
  },
  {
   "cell_type": "code",
   "execution_count": 99,
   "id": "64410fd8-eb6f-41ab-9a3b-7f4bc7dcc2e3",
   "metadata": {},
   "outputs": [],
   "source": [
    "early_stop = keras.callbacks.EarlyStopping(monitor='val_loss', patience=5, restore_best_weights=True)\n",
    "board = keras.callbacks.TensorBoard(log_dir=tensorboard_dir,\n",
    "                                    histogram_freq=1,\n",
    "                                    write_graph=True,\n",
    "                                    write_images=True,\n",
    "                                    update_freq='epoch',\n",
    "                                    profile_batch=2,\n",
    "                                    embeddings_freq=1)\n",
    "lr_reduction = keras.callbacks.ReduceLROnPlateau(monitor='val_loss', patience=2, verbose=1, factor=0.5, min_lr=0.0001)"
   ]
  },
  {
   "cell_type": "markdown",
   "id": "36e62ec3-1760-4615-acaa-c735942dbd9d",
   "metadata": {},
   "source": [
    "## Load images"
   ]
  },
  {
   "cell_type": "code",
   "execution_count": 11,
   "id": "61c0e96f-f613-4b45-9cc6-47b7a445d352",
   "metadata": {},
   "outputs": [],
   "source": [
    "train_dir = r\"C:\\Users\\asaqu\\Breast Cancer Detection Model\\Model Data\\Training\"\n",
    "val_dir = r\"C:\\Users\\asaqu\\Breast Cancer Detection Model\\Model Data\\Validation\"\n",
    "test_dir = r\"C:\\Users\\asaqu\\Breast Cancer Detection Model\\Model Data\\Testing\""
   ]
  },
  {
   "cell_type": "code",
   "execution_count": 12,
   "id": "38757130-9473-4c74-acd6-0d6425bd0dc0",
   "metadata": {},
   "outputs": [
    {
     "name": "stdout",
     "output_type": "stream",
     "text": [
      "Found 194266 images belonging to 2 classes.\n",
      "Found 41629 images belonging to 2 classes.\n",
      "Found 41629 images belonging to 2 classes.\n"
     ]
    }
   ],
   "source": [
    "from keras.preprocessing.image import ImageDataGenerator\n",
    "\n",
    "train_datagen = ImageDataGenerator()\n",
    "val_datagen = ImageDataGenerator()\n",
    "test_datagen = ImageDataGenerator()\n",
    "\n",
    "train_data = train_datagen.flow_from_directory(train_dir,\n",
    "                                         target_size = (50, 50),\n",
    "                                         color_mode = 'grayscale',\n",
    "                                         batch_size = 50,\n",
    "                                         classes=['Negative','Positive'],\n",
    "                                         class_mode = 'binary')\n",
    "\n",
    "val_data = val_datagen.flow_from_directory(val_dir,\n",
    "                                       target_size = (50, 50),\n",
    "                                       color_mode = 'grayscale',\n",
    "                                       batch_size = 50,\n",
    "                                       classes=['Negative','Positive'],\n",
    "                                       class_mode = 'binary')\n",
    "\n",
    "test_data = test_datagen.flow_from_directory(test_dir,\n",
    "                                       target_size = (50, 50),\n",
    "                                       color_mode = 'grayscale',\n",
    "                                       batch_size = 50,\n",
    "                                       classes=['Negative','Positive'],\n",
    "                                       class_mode = 'binary')\n",
    "#flow from directory processes based on alphabetical order hence negative is 0 and positive is 1"
   ]
  },
  {
   "cell_type": "markdown",
   "id": "13026a11-1efb-4ce7-b0d9-c184a647ec71",
   "metadata": {},
   "source": [
    "## Set class weights"
   ]
  },
  {
   "cell_type": "code",
   "execution_count": 13,
   "id": "203af153-d4a9-471b-8849-dbc393efc07c",
   "metadata": {},
   "outputs": [
    {
     "name": "stdout",
     "output_type": "stream",
     "text": [
      "0.6971484759095379 1.768079800498753\n"
     ]
    }
   ],
   "source": [
    "#calculate class weights\n",
    "n_samples = 194266\n",
    "n_classes = 2\n",
    "n_sampleneg = 139329\n",
    "n_samplepos = 54937\n",
    "\n",
    "neg_weight = n_samples/(n_classes*n_sampleneg)\n",
    "\n",
    "pos_weight = n_samples/(n_classes*n_samplepos)\n",
    "\n",
    "print(neg_weight, pos_weight)"
   ]
  },
  {
   "cell_type": "markdown",
   "id": "1ef04674-b054-411b-83e7-523032e935f9",
   "metadata": {},
   "source": [
    "## Train Model"
   ]
  },
  {
   "cell_type": "code",
   "execution_count": 103,
   "id": "633271b0-3619-453a-9b3a-c3632af5d20c",
   "metadata": {},
   "outputs": [
    {
     "name": "stdout",
     "output_type": "stream",
     "text": [
      "Epoch 1/50\n",
      "3886/3886 [==============================] - 88s 22ms/step - loss: 0.5219 - accuracy: 0.7669 - val_loss: 0.5130 - val_accuracy: 0.7570 - lr: 0.0010\n",
      "Epoch 2/50\n",
      "3886/3886 [==============================] - 87s 22ms/step - loss: 0.4801 - accuracy: 0.7900 - val_loss: 0.4476 - val_accuracy: 0.8015 - lr: 0.0010\n",
      "Epoch 3/50\n",
      "3886/3886 [==============================] - 86s 22ms/step - loss: 0.4594 - accuracy: 0.7992 - val_loss: 0.4449 - val_accuracy: 0.7855 - lr: 0.0010\n",
      "Epoch 4/50\n",
      "3886/3886 [==============================] - 85s 22ms/step - loss: 0.4440 - accuracy: 0.8061 - val_loss: 1.1601 - val_accuracy: 0.4416 - lr: 0.0010\n",
      "Epoch 5/50\n",
      "3886/3886 [==============================] - ETA: 0s - loss: 0.4279 - accuracy: 0.8117\n",
      "Epoch 5: ReduceLROnPlateau reducing learning rate to 0.0005000000237487257.\n",
      "3886/3886 [==============================] - 92s 24ms/step - loss: 0.4279 - accuracy: 0.8117 - val_loss: 0.5495 - val_accuracy: 0.7240 - lr: 0.0010\n",
      "Epoch 6/50\n",
      "3886/3886 [==============================] - 96s 25ms/step - loss: 0.3852 - accuracy: 0.8280 - val_loss: 0.4266 - val_accuracy: 0.8243 - lr: 5.0000e-04\n",
      "Epoch 7/50\n",
      "3886/3886 [==============================] - 88s 23ms/step - loss: 0.3538 - accuracy: 0.8388 - val_loss: 0.4698 - val_accuracy: 0.7958 - lr: 5.0000e-04\n",
      "Epoch 8/50\n",
      "3886/3886 [==============================] - ETA: 0s - loss: 0.3214 - accuracy: 0.8495\n",
      "Epoch 8: ReduceLROnPlateau reducing learning rate to 0.0002500000118743628.\n",
      "3886/3886 [==============================] - 87s 22ms/step - loss: 0.3214 - accuracy: 0.8495 - val_loss: 0.4905 - val_accuracy: 0.8180 - lr: 5.0000e-04\n",
      "Epoch 9/50\n",
      "3886/3886 [==============================] - 87s 22ms/step - loss: 0.2617 - accuracy: 0.8770 - val_loss: 0.6213 - val_accuracy: 0.8174 - lr: 2.5000e-04\n",
      "Epoch 10/50\n",
      "3886/3886 [==============================] - ETA: 0s - loss: 0.2256 - accuracy: 0.8936\n",
      "Epoch 10: ReduceLROnPlateau reducing learning rate to 0.0001250000059371814.\n",
      "3886/3886 [==============================] - 88s 23ms/step - loss: 0.2256 - accuracy: 0.8936 - val_loss: 0.6089 - val_accuracy: 0.7686 - lr: 2.5000e-04\n",
      "Epoch 11/50\n",
      "3886/3886 [==============================] - 88s 23ms/step - loss: 0.1846 - accuracy: 0.9135 - val_loss: 0.7135 - val_accuracy: 0.7730 - lr: 1.2500e-04\n"
     ]
    }
   ],
   "source": [
    "#train model\n",
    "\n",
    "with tf.device('/GPU:0'):\n",
    "    result = model.fit(x=train_data,\n",
    "                       batch_size = 50,\n",
    "                       epochs=50,\n",
    "                       validation_data=val_data,\n",
    "                       class_weight ={0 : 0.697 ,\n",
    "                                      1 : 1.768},\n",
    "                       callbacks=[early_stop, lr_reduction]\n",
    "                      )\n"
   ]
  },
  {
   "cell_type": "code",
   "execution_count": 104,
   "id": "49af55b3-ad6c-4887-8762-03c771dfec44",
   "metadata": {},
   "outputs": [],
   "source": [
    "model.save('breast_cancer_predictv4datawlabels.h5')"
   ]
  },
  {
   "cell_type": "code",
   "execution_count": 105,
   "id": "a43beb15-8f1e-4c58-a763-fdf13c624fa5",
   "metadata": {},
   "outputs": [],
   "source": [
    "#save model results to evaluate\n",
    "metrics = pd.DataFrame(model.history.history)\n",
    "metrics.to_csv('model training results4.csv')"
   ]
  },
  {
   "cell_type": "markdown",
   "id": "5264f341-6455-43c4-82fe-29ac30af55d2",
   "metadata": {},
   "source": [
    "## Predict"
   ]
  },
  {
   "cell_type": "code",
   "execution_count": 118,
   "id": "17793f6f-029b-41fb-b6f6-51f3b678b9d6",
   "metadata": {},
   "outputs": [
    {
     "name": "stdout",
     "output_type": "stream",
     "text": [
      "833/833 [==============================] - 19s 23ms/step\n"
     ]
    },
    {
     "data": {
      "text/plain": [
       "array([[1.7289824e-06],\n",
       "       [2.9372478e-01],\n",
       "       [7.2795373e-01],\n",
       "       ...,\n",
       "       [7.1698561e-02],\n",
       "       [2.7570304e-01],\n",
       "       [2.1577515e-03]], dtype=float32)"
      ]
     },
     "execution_count": 118,
     "metadata": {},
     "output_type": "execute_result"
    }
   ],
   "source": [
    "predictions = model.predict(test_data, batch_size=50)\n",
    "predictions"
   ]
  },
  {
   "cell_type": "code",
   "execution_count": 119,
   "id": "61afdefc-28dc-41ca-8da6-3852d3f8581c",
   "metadata": {},
   "outputs": [],
   "source": [
    "all_labels = []\n",
    "for i in range(0,833):\n",
    "    all_labels.append(test_data[i][1])\n",
    "    "
   ]
  },
  {
   "cell_type": "code",
   "execution_count": 120,
   "id": "0788685b-1a3b-4c91-af4a-e58fc855b1d0",
   "metadata": {},
   "outputs": [],
   "source": [
    "import numpy as np\n",
    "\n",
    "all_labels = np.concatenate(all_labels, axis=0)\n",
    "all_predictions = np.concatenate(predictions, axis=0)"
   ]
  },
  {
   "cell_type": "code",
   "execution_count": 121,
   "id": "0ba112ad-d2b3-4fd5-8417-97bad30b4f00",
   "metadata": {},
   "outputs": [
    {
     "data": {
      "text/plain": [
       "(41629,)"
      ]
     },
     "execution_count": 121,
     "metadata": {},
     "output_type": "execute_result"
    }
   ],
   "source": [
    "all_labels.shape"
   ]
  },
  {
   "cell_type": "code",
   "execution_count": 122,
   "id": "f5b43822-bd4e-49fb-9291-cce02a29a9e6",
   "metadata": {},
   "outputs": [],
   "source": [
    "results = pd.DataFrame({\"Label\" : all_labels,\n",
    "                        \"Prediction\" : all_predictions})\n",
    "\n"
   ]
  },
  {
   "cell_type": "code",
   "execution_count": 123,
   "id": "15a10c74-0b24-49c6-a8fd-9ad3ae9d2095",
   "metadata": {},
   "outputs": [
    {
     "data": {
      "text/plain": [
       "(41629, 2)"
      ]
     },
     "execution_count": 123,
     "metadata": {},
     "output_type": "execute_result"
    }
   ],
   "source": [
    "results.shape"
   ]
  },
  {
   "cell_type": "code",
   "execution_count": 124,
   "id": "d0651e8b-f8bb-484d-bf54-a4b593314589",
   "metadata": {},
   "outputs": [],
   "source": [
    "results.to_csv('predictions2.csv', index=False)"
   ]
  },
  {
   "cell_type": "code",
   "execution_count": 130,
   "id": "b971540f-52be-4add-857f-6ee076531c46",
   "metadata": {},
   "outputs": [],
   "source": [
    "test_imgs, test_labels = next(test_data)"
   ]
  },
  {
   "cell_type": "code",
   "execution_count": 131,
   "id": "16e09636-ea56-4ffb-b258-a9038c755ddf",
   "metadata": {},
   "outputs": [
    {
     "data": {
      "text/plain": [
       "array([0., 0., 0., 0., 0., 0., 0., 0., 0., 1., 0., 1., 0., 1., 0., 0., 0.,\n",
       "       1., 0., 1., 0., 0., 0., 0., 0., 1., 0., 0., 0., 0., 1., 0., 0., 0.,\n",
       "       0., 1., 0., 0., 0., 0., 1., 0., 1., 0., 0., 0., 0., 0., 0., 0.],\n",
       "      dtype=float32)"
      ]
     },
     "execution_count": 131,
     "metadata": {},
     "output_type": "execute_result"
    }
   ],
   "source": [
    "test_labels"
   ]
  },
  {
   "cell_type": "code",
   "execution_count": 132,
   "id": "9c9cc6e1-ed0e-4654-8c68-5a16c1dd5128",
   "metadata": {},
   "outputs": [
    {
     "name": "stderr",
     "output_type": "stream",
     "text": [
      "C:\\Users\\asaqu\\AppData\\Local\\Temp\\ipykernel_29272\\1254772220.py:1: UserWarning: `Model.predict_generator` is deprecated and will be removed in a future version. Please use `Model.predict`, which supports generators.\n",
      "  first_batch_prediction = model.predict_generator(test_data, steps=1, verbose=0)\n"
     ]
    }
   ],
   "source": [
    "first_batch_prediction = model.predict_generator(test_data, steps=1, verbose=0)"
   ]
  },
  {
   "cell_type": "code",
   "execution_count": 133,
   "id": "8e536e16-6954-4357-bf13-8371587878d1",
   "metadata": {},
   "outputs": [
    {
     "data": {
      "text/plain": [
       "array([[8.1463680e-02],\n",
       "       [2.4295032e-01],\n",
       "       [2.6929730e-01],\n",
       "       [4.3179470e-01],\n",
       "       [2.6489824e-01],\n",
       "       [1.3212118e-02],\n",
       "       [1.7888506e-01],\n",
       "       [7.1960196e-02],\n",
       "       [7.3630572e-04],\n",
       "       [8.4828045e-03],\n",
       "       [2.4432458e-01],\n",
       "       [3.1685910e-01],\n",
       "       [2.7245793e-01],\n",
       "       [4.3625609e-05],\n",
       "       [4.4033553e-02],\n",
       "       [1.6254438e-05],\n",
       "       [5.4892892e-01],\n",
       "       [4.1048539e-01],\n",
       "       [2.2640441e-01],\n",
       "       [4.5043617e-01],\n",
       "       [8.7172937e-01],\n",
       "       [1.0982441e-01],\n",
       "       [8.6356038e-01],\n",
       "       [5.1711470e-01],\n",
       "       [2.8568524e-01],\n",
       "       [2.6097611e-01],\n",
       "       [6.9239557e-01],\n",
       "       [5.2635748e-02],\n",
       "       [5.7363551e-02],\n",
       "       [2.8496835e-01],\n",
       "       [4.8303057e-02],\n",
       "       [2.9211659e-02],\n",
       "       [4.8990082e-02],\n",
       "       [7.4228980e-02],\n",
       "       [9.7219265e-01],\n",
       "       [5.9567499e-03],\n",
       "       [9.8694277e-01],\n",
       "       [2.2513363e-01],\n",
       "       [3.9907983e-01],\n",
       "       [3.4822318e-01],\n",
       "       [9.6889549e-01],\n",
       "       [8.6123312e-01],\n",
       "       [4.4240681e-03],\n",
       "       [8.0152175e-05],\n",
       "       [1.1948807e-02],\n",
       "       [1.9234389e-02],\n",
       "       [4.5775892e-06],\n",
       "       [2.1501564e-04],\n",
       "       [2.0302331e-01],\n",
       "       [2.6282843e-03]], dtype=float32)"
      ]
     },
     "execution_count": 133,
     "metadata": {},
     "output_type": "execute_result"
    }
   ],
   "source": [
    "first_batch_prediction"
   ]
  },
  {
   "cell_type": "code",
   "execution_count": 134,
   "id": "ec08e54e-fdc6-4762-9d5a-68caa667dcae",
   "metadata": {},
   "outputs": [],
   "source": [
    "single_batch_labels = list(test_labels.flatten())\n",
    "single_batch_predictions = np.concatenate(first_batch_prediction, axis=0)"
   ]
  },
  {
   "cell_type": "code",
   "execution_count": 135,
   "id": "bf8f8228-7853-4eb3-aed0-492918b5f238",
   "metadata": {},
   "outputs": [],
   "source": [
    "single_batch_results = pd.DataFrame({\"Label\" : single_batch_labels,\n",
    "                        \"Prediction\" : single_batch_predictions})"
   ]
  },
  {
   "cell_type": "code",
   "execution_count": 136,
   "id": "5d8848d7-4131-49d2-8050-6dbcf313dca3",
   "metadata": {},
   "outputs": [],
   "source": [
    "single_batch_results.to_csv('single_batch_result.csv')"
   ]
  },
  {
   "cell_type": "code",
   "execution_count": null,
   "id": "079d4db8-045b-4060-a2f0-ba3f5068ec47",
   "metadata": {},
   "outputs": [],
   "source": []
  }
 ],
 "metadata": {
  "kernelspec": {
   "display_name": "Python 3 (ipykernel)",
   "language": "python",
   "name": "python3"
  },
  "language_info": {
   "codemirror_mode": {
    "name": "ipython",
    "version": 3
   },
   "file_extension": ".py",
   "mimetype": "text/x-python",
   "name": "python",
   "nbconvert_exporter": "python",
   "pygments_lexer": "ipython3",
   "version": "3.10.15"
  }
 },
 "nbformat": 4,
 "nbformat_minor": 5
}
