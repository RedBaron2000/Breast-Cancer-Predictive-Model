{
 "cells": [
  {
   "cell_type": "code",
   "execution_count": 1,
   "id": "4f501e4a",
   "metadata": {},
   "outputs": [],
   "source": [
    "import os\n",
    "import zipfile\n",
    "import shutil\n",
    "import stat"
   ]
  },
  {
   "cell_type": "code",
   "execution_count": 2,
   "id": "c30e5100",
   "metadata": {},
   "outputs": [
    {
     "data": {
      "text/plain": [
       "'C:\\\\Users\\\\asaqu\\\\Breast Cancer Detection Model'"
      ]
     },
     "execution_count": 2,
     "metadata": {},
     "output_type": "execute_result"
    }
   ],
   "source": [
    "os.getcwd()"
   ]
  },
  {
   "cell_type": "code",
   "execution_count": 6,
   "id": "70c11258",
   "metadata": {},
   "outputs": [],
   "source": [
    "os.chdir(r\"C:\\\\Users\\\\asaqu\\Breast Cancer Detection Model\")"
   ]
  },
  {
   "cell_type": "code",
   "execution_count": 7,
   "id": "debf8fe1",
   "metadata": {},
   "outputs": [],
   "source": [
    "os.mkdir(\"Raw Data\")\n",
    "os.mkdir(\"Sorted Data\")\n",
    "os.mkdir(r\"Sorted Data\\Positive\")\n",
    "os.mkdir(r\"Sorted Data\\Negative\")\n"
   ]
  },
  {
   "cell_type": "code",
   "execution_count": 73,
   "id": "6150564a",
   "metadata": {},
   "outputs": [],
   "source": [
    "Negative_folder = r\"C:\\Users\\asaqu\\Breast Cancer Detection Model\\Sorted Data\\Negative\"\n",
    "Positive_folder = r\"C:\\Users\\asaqu\\Breast Cancer Detection Model\\Sorted Data\\Positive\""
   ]
  },
  {
   "cell_type": "code",
   "execution_count": 12,
   "id": "7432c81d",
   "metadata": {},
   "outputs": [],
   "source": [
    "with zipfile.ZipFile(r\"C:\\Users\\asaqu\\Downloads\\archive.zip\", 'r') as zip_ref:\n",
    "    zip_ref.extractall(r\"C:\\Users\\asaqu\\Breast Cancer Detection Model\\Raw Data\")\n"
   ]
  },
  {
   "cell_type": "code",
   "execution_count": 60,
   "id": "3fbbd761",
   "metadata": {},
   "outputs": [
    {
     "data": {
      "text/plain": [
       "479"
      ]
     },
     "execution_count": 60,
     "metadata": {},
     "output_type": "execute_result"
    }
   ],
   "source": [
    "os.listdir(r\"C:\\\\Users\\\\asaqu\\Breast Cancer Detection Model\\Raw Data\\10253\\0\")"
   ]
  },
  {
   "cell_type": "code",
   "execution_count": 17,
   "id": "a9719f42",
   "metadata": {},
   "outputs": [
    {
     "data": {
      "text/plain": [
       "'10254'"
      ]
     },
     "execution_count": 17,
     "metadata": {},
     "output_type": "execute_result"
    }
   ],
   "source": [
    "os.listdir(\"Raw Data\")[1]"
   ]
  },
  {
   "cell_type": "code",
   "execution_count": null,
   "id": "141b2aff",
   "metadata": {},
   "outputs": [],
   "source": [
    "test = r\"C:\\\\Users\\\\asaqu\\Breast Cancer Detection Model\\Raw Data\\10253\\0\""
   ]
  },
  {
   "cell_type": "code",
   "execution_count": 46,
   "id": "2b4d9cbd",
   "metadata": {},
   "outputs": [],
   "source": [
    "os.chmod(r\"C:\\\\Users\\\\asaqu\\\\Breast Cancer Detection Model\\\\\", stat.S_IRWXU)"
   ]
  },
  {
   "cell_type": "code",
   "execution_count": 61,
   "id": "f46a3f6e",
   "metadata": {},
   "outputs": [
    {
     "ename": "SyntaxError",
     "evalue": "unexpected EOF while parsing (Temp/ipykernel_41672/1264036891.py, line 1)",
     "output_type": "error",
     "traceback": [
      "\u001b[1;36m  File \u001b[1;32m\"C:\\Users\\asaqu\\AppData\\Local\\Temp/ipykernel_41672/1264036891.py\"\u001b[1;36m, line \u001b[1;32m1\u001b[0m\n\u001b[1;33m    range(len(os.listdir(temp_path_negative))\u001b[0m\n\u001b[1;37m                                             ^\u001b[0m\n\u001b[1;31mSyntaxError\u001b[0m\u001b[1;31m:\u001b[0m unexpected EOF while parsing\n"
     ]
    }
   ],
   "source": [
    "range(len(os.listdir(temp_path_negative))"
   ]
  },
  {
   "cell_type": "code",
   "execution_count": 68,
   "id": "3fd249e8",
   "metadata": {},
   "outputs": [],
   "source": [
    "# iterate through each folder then grab photos from the subfolder 0, 1 and move them to sorted data file\n",
    "\n",
    "\n",
    "for i in range(len(os.listdir(\"Raw Data\"))):\n",
    "    temp_path_negative = r\"C:\\Users\\asaqu\\Breast Cancer Detection Model\\Raw Data\" + \"\\\\\" + str(os.listdir(\"Raw Data\")[i]) + \"\\\\0\" \n",
    "    #temp_path_positive = r\"C:\\Users\\asaqu\\Breast Cancer Detection Model\\Raw Data\" + \"\\\\\" + str(os.listdir(\"Raw Data\")[i]) + \"\\\\1\" \n",
    "    \n",
    "    for j in range(len(os.listdir(temp_path_negative))):\n",
    "        photo_path = temp_path_negative + \"\\\\\" + str(os.listdir(temp_path_negative)[j])\n",
    "        shutil.copy(photo_path, Negative_folder)\n",
    "        #shutil.copy(temp_path_negative + \"\\\\\" + photo_path, Negative_folder)\n",
    "    #shutil.copy(temp_path_positive, Positive_folder)\n",
    "    \n"
   ]
  },
  {
   "cell_type": "code",
   "execution_count": 74,
   "id": "e899aae9",
   "metadata": {},
   "outputs": [],
   "source": [
    "for i in range(len(os.listdir(\"Raw Data\"))):\n",
    "    #temp_path_negative = r\"C:\\Users\\asaqu\\Breast Cancer Detection Model\\Raw Data\" + \"\\\\\" + str(os.listdir(\"Raw Data\")[i]) + \"\\\\0\" \n",
    "    temp_path_positive = r\"C:\\Users\\asaqu\\Breast Cancer Detection Model\\Raw Data\" + \"\\\\\" + str(os.listdir(\"Raw Data\")[i]) + \"\\\\1\" \n",
    "    \n",
    "    for j in range(len(os.listdir(temp_path_positive))):\n",
    "        photo_path = temp_path_positive + \"\\\\\" + str(os.listdir(temp_path_positive)[j])\n",
    "        shutil.copy(photo_path, Positive_folder)\n",
    "   "
   ]
  },
  {
   "cell_type": "code",
   "execution_count": 34,
   "id": "9dc3fdb4",
   "metadata": {},
   "outputs": [],
   "source": [
    "temp_pathnegative = r\"C:\\Users\\asaqu\\Breast Cancer Detection Model\\Raw Data\" + \"\\\\\" + str(os.listdir(\"Raw Data\")[1]) + \"\\\\\" + \"0\""
   ]
  },
  {
   "cell_type": "code",
   "execution_count": 35,
   "id": "c4c319fb",
   "metadata": {},
   "outputs": [
    {
     "data": {
      "text/plain": [
       "'C:\\\\Users\\\\asaqu\\\\Breast Cancer Detection Model\\\\Raw Data\\\\10254\\\\0'"
      ]
     },
     "execution_count": 35,
     "metadata": {},
     "output_type": "execute_result"
    }
   ],
   "source": [
    "temp_path"
   ]
  },
  {
   "cell_type": "code",
   "execution_count": 36,
   "id": "c6a92252",
   "metadata": {},
   "outputs": [
    {
     "data": {
      "text/plain": [
       "range(0, 279)"
      ]
     },
     "execution_count": 36,
     "metadata": {},
     "output_type": "execute_result"
    }
   ],
   "source": [
    "range(len(os.listdir(\"Raw Data\")))"
   ]
  },
  {
   "cell_type": "markdown",
   "id": "1f14cc9f",
   "metadata": {},
   "source": [
    "## Move preprocessed and split data back into positive/negative folders"
   ]
  },
  {
   "cell_type": "code",
   "execution_count": 10,
   "id": "c67ca94f",
   "metadata": {},
   "outputs": [],
   "source": [
    "os.mkdir(r\"Model Data\\Training\\Negative\")\n",
    "os.mkdir(r\"Model Data\\Training\\Positive\")\n",
    "os.mkdir(r\"Model Data\\Validation\\Negative\")\n",
    "os.mkdir(r\"Model Data\\Validation\\Positive\")\n",
    "os.mkdir(r\"Model Data\\Testing\\Negative\")\n",
    "os.mkdir(r\"Model Data\\Testing\\Positive\")"
   ]
  },
  {
   "cell_type": "code",
   "execution_count": 11,
   "id": "1cb9c760",
   "metadata": {},
   "outputs": [],
   "source": [
    "for file in os.listdir(r\"Model Data\\Training\"):\n",
    "    if str(file)[-5] == \"0\":\n",
    "        temp_photo_path = r\"C:\\Users\\asaqu\\Breast Cancer Detection Model\\Model Data\\Training\" + \"\\\\\" + file\n",
    "        neg_folder = r\"C:\\Users\\asaqu\\Breast Cancer Detection Model\\Model Data\\Training\\Negative\" \n",
    "        shutil.move(temp_photo_path, neg_folder)\n",
    "        \n",
    "    elif str(file)[-5] == \"1\":\n",
    "        temp_photo_path = r\"C:\\Users\\asaqu\\Breast Cancer Detection Model\\Model Data\\Training\" + \"\\\\\" + file\n",
    "        pos_folder = r\"C:\\Users\\asaqu\\Breast Cancer Detection Model\\Model Data\\Training\\Positive\"\n",
    "        shutil.move(temp_photo_path, pos_folder)\n",
    "        \n",
    "    else:\n",
    "        continue"
   ]
  },
  {
   "cell_type": "code",
   "execution_count": 12,
   "id": "65f03731",
   "metadata": {},
   "outputs": [],
   "source": [
    "for file in os.listdir(r\"Model Data\\Validation\"):\n",
    "    #if statement to move to designated folder based on clasification\n",
    "    if str(file)[-5] == \"0\":\n",
    "        temp_photo_path = r\"C:\\Users\\asaqu\\Breast Cancer Detection Model\\Model Data\\Validation\" + \"\\\\\" + file\n",
    "        neg_folder = r\"C:\\Users\\asaqu\\Breast Cancer Detection Model\\Model Data\\Validation\\Negative\" \n",
    "        shutil.move(temp_photo_path, neg_folder)\n",
    "        \n",
    "    elif str(file)[-5] == \"1\":\n",
    "        temp_photo_path = r\"C:\\Users\\asaqu\\Breast Cancer Detection Model\\Model Data\\Validation\" + \"\\\\\" + file\n",
    "        pos_folder = r\"C:\\Users\\asaqu\\Breast Cancer Detection Model\\Model Data\\Validation\\Positive\"\n",
    "        shutil.move(temp_photo_path, pos_folder)\n",
    "        \n",
    "    else:\n",
    "        continue"
   ]
  },
  {
   "cell_type": "code",
   "execution_count": 13,
   "id": "964377ff",
   "metadata": {},
   "outputs": [],
   "source": [
    "for file in os.listdir(r\"Model Data\\Testing\"):\n",
    "    #if statement to move to designated folder based on clasification\n",
    "    if str(file)[-5] == \"0\":\n",
    "        temp_photo_path = r\"C:\\Users\\asaqu\\Breast Cancer Detection Model\\Model Data\\Testing\" + \"\\\\\" + file\n",
    "        neg_folder = r\"C:\\Users\\asaqu\\Breast Cancer Detection Model\\Model Data\\Testing\\Negative\" \n",
    "        shutil.move(temp_photo_path, neg_folder)\n",
    "        \n",
    "    elif str(file)[-5] == \"1\":\n",
    "        temp_photo_path = r\"C:\\Users\\asaqu\\Breast Cancer Detection Model\\Model Data\\Testing\" + \"\\\\\" + file\n",
    "        pos_folder = r\"C:\\Users\\asaqu\\Breast Cancer Detection Model\\Model Data\\Testing\\Positive\"\n",
    "        shutil.move(temp_photo_path, pos_folder)\n",
    "        \n",
    "    else:\n",
    "        continue"
   ]
  },
  {
   "cell_type": "code",
   "execution_count": null,
   "id": "930df8c2",
   "metadata": {},
   "outputs": [],
   "source": []
  }
 ],
 "metadata": {
  "kernelspec": {
   "display_name": "Python 3 (ipykernel)",
   "language": "python",
   "name": "python3"
  },
  "language_info": {
   "codemirror_mode": {
    "name": "ipython",
    "version": 3
   },
   "file_extension": ".py",
   "mimetype": "text/x-python",
   "name": "python",
   "nbconvert_exporter": "python",
   "pygments_lexer": "ipython3",
   "version": "3.10.15"
  }
 },
 "nbformat": 4,
 "nbformat_minor": 5
}
